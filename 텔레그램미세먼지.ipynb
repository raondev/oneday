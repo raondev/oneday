{
  "nbformat": 4,
  "nbformat_minor": 0,
  "metadata": {
    "colab": {
      "name": "텔레그램미세먼지.ipynb",
      "provenance": [],
      "include_colab_link": true
    },
    "kernelspec": {
      "name": "python3",
      "display_name": "Python 3"
    }
  },
  "cells": [
    {
      "cell_type": "markdown",
      "metadata": {
        "id": "view-in-github",
        "colab_type": "text"
      },
      "source": [
        "<a href=\"https://colab.research.google.com/github/raondev/oneday/blob/master/%ED%85%94%EB%A0%88%EA%B7%B8%EB%9E%A8%EB%AF%B8%EC%84%B8%EB%A8%BC%EC%A7%80.ipynb\" target=\"_parent\"><img src=\"https://colab.research.google.com/assets/colab-badge.svg\" alt=\"Open In Colab\"/></a>"
      ]
    },
    {
      "cell_type": "code",
      "metadata": {
        "id": "_F80Bo4rWGdO",
        "colab_type": "code",
        "colab": {
          "base_uri": "https://localhost:8080/",
          "height": 87
        },
        "outputId": "b14b9520-2a26-429b-abbb-5c5af34e6757"
      },
      "source": [
        "!pip install schedule"
      ],
      "execution_count": 1,
      "outputs": [
        {
          "output_type": "stream",
          "text": [
            "Collecting schedule\n",
            "  Downloading https://files.pythonhosted.org/packages/57/22/3a709462eb02412bd1145f6e53604f36bba191e3e4e397bea4a718fec38c/schedule-0.6.0-py2.py3-none-any.whl\n",
            "Installing collected packages: schedule\n",
            "Successfully installed schedule-0.6.0\n"
          ],
          "name": "stdout"
        }
      ]
    },
    {
      "cell_type": "code",
      "metadata": {
        "id": "uvZ3cs-ZW0oP",
        "colab_type": "code",
        "colab": {}
      },
      "source": [
        "# HTTP 통신\n",
        "import requests\n",
        "from urllib.parse import urlencode, quote_plus, urlparse\n",
        "from urllib.request import urlopen\n",
        "import urllib\n",
        "\n",
        "# 데이터 가공\n",
        "from bs4 import BeautifulSoup\n",
        "import json\n",
        "\n",
        "# 시간 관련 \n",
        "import datetime\n",
        "from time import sleep\n",
        "import schedule"
      ],
      "execution_count": 0,
      "outputs": []
    },
    {
      "cell_type": "code",
      "metadata": {
        "id": "7zAlYxR1W0rT",
        "colab_type": "code",
        "colab": {
          "base_uri": "https://localhost:8080/",
          "height": 134
        },
        "outputId": "2c8e1951-64c3-4d03-9fd5-734b3fb39cfa"
      },
      "source": [
        "965234714:AAGBHcRl6CP7gguc7flQAgugfKaC-IvkWpg"
      ],
      "execution_count": 4,
      "outputs": [
        {
          "output_type": "error",
          "ename": "SyntaxError",
          "evalue": "ignored",
          "traceback": [
            "\u001b[0;36m  File \u001b[0;32m\"<ipython-input-4-e8104815bb90>\"\u001b[0;36m, line \u001b[0;32m1\u001b[0m\n\u001b[0;31m    965234714:AAGBHcRl6CP7gguc7flQAgugfKaC-IvkWpg\u001b[0m\n\u001b[0m                                                 ^\u001b[0m\n\u001b[0;31mSyntaxError\u001b[0m\u001b[0;31m:\u001b[0m illegal target for annotation\n"
          ]
        }
      ]
    },
    {
      "cell_type": "code",
      "metadata": {
        "id": "ulYsJVs2W0uN",
        "colab_type": "code",
        "colab": {}
      },
      "source": [
        "API_key_Telegram = '965234714:AAGBHcRl6CP7gguc7flQAgugfKaC-IvkWpg'"
      ],
      "execution_count": 0,
      "outputs": []
    },
    {
      "cell_type": "code",
      "metadata": {
        "id": "CVzcbFubW0xV",
        "colab_type": "code",
        "colab": {}
      },
      "source": [
        "def get_myChatID() :\n",
        "    \n",
        "    # 이 코드셀에서 에러가 난다면, 해당 텔레그램 봇에서 직접 아무 메시지나 \"두 번\" 입력\n",
        "\n",
        "    endpoint = 'https://api.telegram.org/bot'\n",
        "    query = '/' + 'getUpdates'\n",
        "    URL = endpoint + API_key_Telegram + query\n",
        "    \n",
        "    print(URL)\n",
        "    \n",
        "    request = urllib.request.Request(URL)\n",
        "    response = urllib.request.urlopen(request)\n",
        "    rescode = response.getcode()\n",
        "    request_body = urlopen(request).read()\n",
        "\n",
        "    if rescode == 200 :\n",
        "        print(rescode)\n",
        "        print('SUCCESS \\n')\n",
        "        chat_id = json.loads(request_body)['result'][0]['message']['from']['id']\n",
        "        print('나의 chat ID : '+ str(chat_id))\n",
        "     \n",
        "        return str(chat_id)\n",
        "    \n",
        "    else :\n",
        "        print(rescode)\n",
        "        print('FAILED')"
      ],
      "execution_count": 0,
      "outputs": []
    },
    {
      "cell_type": "code",
      "metadata": {
        "id": "wHukLWiYW00W",
        "colab_type": "code",
        "colab": {
          "base_uri": "https://localhost:8080/",
          "height": 362
        },
        "outputId": "72b4d1a1-7869-4ddf-d069-7ffb6a74bfab"
      },
      "source": [
        "#처음에는 200 SUCCESS 까지만 나오면 됨  이후 텔레그램과 대화 몇번 시도\n",
        "get_myChatID()"
      ],
      "execution_count": 10,
      "outputs": [
        {
          "output_type": "stream",
          "text": [
            "https://api.telegram.org/bot965234714:AAGBHcRl6CP7gguc7flQAgugfKaC-IvkWpg/getUpdates\n",
            "200\n",
            "SUCCESS \n",
            "\n"
          ],
          "name": "stdout"
        },
        {
          "output_type": "error",
          "ename": "IndexError",
          "evalue": "ignored",
          "traceback": [
            "\u001b[0;31m---------------------------------------------------------------------------\u001b[0m",
            "\u001b[0;31mIndexError\u001b[0m                                Traceback (most recent call last)",
            "\u001b[0;32m<ipython-input-10-9ffe9acb0734>\u001b[0m in \u001b[0;36m<module>\u001b[0;34m()\u001b[0m\n\u001b[0;32m----> 1\u001b[0;31m \u001b[0mget_myChatID\u001b[0m\u001b[0;34m(\u001b[0m\u001b[0;34m)\u001b[0m\u001b[0;34m\u001b[0m\u001b[0;34m\u001b[0m\u001b[0m\n\u001b[0m",
            "\u001b[0;32m<ipython-input-8-6033e75ab285>\u001b[0m in \u001b[0;36mget_myChatID\u001b[0;34m()\u001b[0m\n\u001b[1;32m     17\u001b[0m         \u001b[0mprint\u001b[0m\u001b[0;34m(\u001b[0m\u001b[0mrescode\u001b[0m\u001b[0;34m)\u001b[0m\u001b[0;34m\u001b[0m\u001b[0;34m\u001b[0m\u001b[0m\n\u001b[1;32m     18\u001b[0m         \u001b[0mprint\u001b[0m\u001b[0;34m(\u001b[0m\u001b[0;34m'SUCCESS \\n'\u001b[0m\u001b[0;34m)\u001b[0m\u001b[0;34m\u001b[0m\u001b[0;34m\u001b[0m\u001b[0m\n\u001b[0;32m---> 19\u001b[0;31m         \u001b[0mchat_id\u001b[0m \u001b[0;34m=\u001b[0m \u001b[0mjson\u001b[0m\u001b[0;34m.\u001b[0m\u001b[0mloads\u001b[0m\u001b[0;34m(\u001b[0m\u001b[0mrequest_body\u001b[0m\u001b[0;34m)\u001b[0m\u001b[0;34m[\u001b[0m\u001b[0;34m'result'\u001b[0m\u001b[0;34m]\u001b[0m\u001b[0;34m[\u001b[0m\u001b[0;36m0\u001b[0m\u001b[0;34m]\u001b[0m\u001b[0;34m[\u001b[0m\u001b[0;34m'message'\u001b[0m\u001b[0;34m]\u001b[0m\u001b[0;34m[\u001b[0m\u001b[0;34m'from'\u001b[0m\u001b[0;34m]\u001b[0m\u001b[0;34m[\u001b[0m\u001b[0;34m'id'\u001b[0m\u001b[0;34m]\u001b[0m\u001b[0;34m\u001b[0m\u001b[0;34m\u001b[0m\u001b[0m\n\u001b[0m\u001b[1;32m     20\u001b[0m         \u001b[0mprint\u001b[0m\u001b[0;34m(\u001b[0m\u001b[0;34m'나의 chat ID : '\u001b[0m\u001b[0;34m+\u001b[0m \u001b[0mstr\u001b[0m\u001b[0;34m(\u001b[0m\u001b[0mchat_id\u001b[0m\u001b[0;34m)\u001b[0m\u001b[0;34m)\u001b[0m\u001b[0;34m\u001b[0m\u001b[0;34m\u001b[0m\u001b[0m\n\u001b[1;32m     21\u001b[0m \u001b[0;34m\u001b[0m\u001b[0m\n",
            "\u001b[0;31mIndexError\u001b[0m: list index out of range"
          ]
        }
      ]
    },
    {
      "cell_type": "code",
      "metadata": {
        "id": "kTMGll0HW034",
        "colab_type": "code",
        "colab": {
          "base_uri": "https://localhost:8080/",
          "height": 122
        },
        "outputId": "b64f4433-c98d-4930-dc0b-61f558d39602"
      },
      "source": [
        "#대화 시도후 재실행 하면 ID 반환\n",
        "get_myChatID()"
      ],
      "execution_count": 11,
      "outputs": [
        {
          "output_type": "stream",
          "text": [
            "https://api.telegram.org/bot965234714:AAGBHcRl6CP7gguc7flQAgugfKaC-IvkWpg/getUpdates\n",
            "200\n",
            "SUCCESS \n",
            "\n",
            "나의 chat ID : 850653038\n"
          ],
          "name": "stdout"
        },
        {
          "output_type": "execute_result",
          "data": {
            "text/plain": [
              "'850653038'"
            ]
          },
          "metadata": {
            "tags": []
          },
          "execution_count": 11
        }
      ]
    },
    {
      "cell_type": "code",
      "metadata": {
        "id": "qDnJeAukW06v",
        "colab_type": "code",
        "colab": {}
      },
      "source": [
        "def send_message(input_text) :\n",
        "    \n",
        "    # 유저마다 chat id가 다르다.\n",
        "    chat_id = get_myChatID()\n",
        "    \n",
        "    endpoint = 'https://api.telegram.org/bot'\n",
        "    action = '/' + 'sendmessage'\n",
        "    param_list = [\n",
        "        'chat_id=' + str(chat_id), \n",
        "        'text=' + input_text\n",
        "    ]\n",
        "    param = '&'.join(param_list)\n",
        "    query = action + '?' + param\n",
        "    \n",
        "    URL = endpoint + API_key_Telegram + query\n",
        "    print(URL)\n",
        "    \n",
        "    try : \n",
        "        r = requests.get(URL)\n",
        "        print(r.text)\n",
        "    \n",
        "    except Exception as e:\n",
        "        print(str(e))"
      ],
      "execution_count": 0,
      "outputs": []
    },
    {
      "cell_type": "code",
      "metadata": {
        "id": "fnTI14NNW098",
        "colab_type": "code",
        "colab": {}
      },
      "source": [
        "send_message=(\"테스트  cabin\")"
      ],
      "execution_count": 0,
      "outputs": []
    },
    {
      "cell_type": "code",
      "metadata": {
        "id": "RbSVA4nfW1BY",
        "colab_type": "code",
        "colab": {
          "base_uri": "https://localhost:8080/",
          "height": 160
        },
        "outputId": "c93d39fa-34b4-44c7-93f6-a16c7d7c492a"
      },
      "source": [
        "send_message('테스트 TEST 555')"
      ],
      "execution_count": 34,
      "outputs": [
        {
          "output_type": "stream",
          "text": [
            "https://api.telegram.org/bot965234714:AAGBHcRl6CP7gguc7flQAgugfKaC-IvkWpg/getUpdates\n",
            "200\n",
            "SUCCESS \n",
            "\n",
            "나의 chat ID : 850653038\n",
            "https://api.telegram.org/bot965234714:AAGBHcRl6CP7gguc7flQAgugfKaC-IvkWpg/sendmessage?chat_id=850653038&text=테스트 TEST 555\n",
            "{\"ok\":true,\"result\":{\"message_id\":10,\"from\":{\"id\":965234714,\"is_bot\":true,\"first_name\":\"cabin_alam_bot\",\"username\":\"skb_albam_bot\"},\"chat\":{\"id\":850653038,\"first_name\":\"cabin\",\"last_name\":\"song\",\"type\":\"private\"},\"date\":1571983646,\"text\":\"\\ud14c\\uc2a4\\ud2b8 TEST 555\"}}\n"
          ],
          "name": "stdout"
        }
      ]
    },
    {
      "cell_type": "code",
      "metadata": {
        "id": "E9O4fr1MW1Ek",
        "colab_type": "code",
        "colab": {}
      },
      "source": [
        "API_key_opendata = 'aunaAEd6XzDWPf1Cbxk0hkY0oLsPacW%2Fsq78pO1SxoiC5CCRCUrAqYwL5QAWmsCHiwykPiZJVx97jY%2FN1mq1mA%3D%3D'"
      ],
      "execution_count": 0,
      "outputs": []
    },
    {
      "cell_type": "code",
      "metadata": {
        "id": "tvpnOK54W1H_",
        "colab_type": "code",
        "colab": {}
      },
      "source": [
        "def getData_airPollution() :\n",
        "    \n",
        "    # API : 대기오염정보 조회 서비스\n",
        "    endpoint = 'http://openapi.airkorea.or.kr/openapi/services/rest/ArpltnInforInqireSvc/getCtprvnMesureSidoLIst'\n",
        "    \n",
        "    headers_params = { \n",
        "    #quote_plus('ServiceKey') : api_key_utf8, \n",
        "    # Service Key는 특수문자를 포함하고 있기 때문에 인코딩 parameter 객체에 넣기에는 인코딩 과정이 복잡하다.\n",
        "    # 아래 코드 셀에서 직접 URL의 Service Key 부분만 수동으로 타이핑하자.\n",
        "        quote_plus('ServiceKey') : API_key_opendata, \n",
        "        quote_plus('pageNo') : '1', \n",
        "        quote_plus('numOfRows') : '50', \n",
        "        quote_plus('sidoName') : '서울', ### 도시명 수정 가능 ###\n",
        "        quote_plus('searchCondition') : 'HOUR'\n",
        "    }\n",
        "\n",
        "    queryParams = ('?' + \n",
        "                  'ServiceKey=' + API_key_opendata + '&' + \n",
        "                  urllib.parse.urlencode(headers_params, 'UTF-8'))\n",
        "\n",
        "    url = endpoint  + queryParams\n",
        "    \n",
        "    request = urllib.request.Request(url)\n",
        "    request.get_method = lambda : 'GET'\n",
        "\n",
        "    response = urllib.request.urlopen(request)\n",
        "    rescode = response.getcode()\n",
        "    request_body = urlopen(request).read()\n",
        "    print('request 완료\\n')\n",
        "    \n",
        "    # 여기까지 API 호출 코드였다. #\n",
        "    # 아래부터 API로 받아온 데이터를 가공하는 작업 --> 시간, 지역구, 각종 대기오염 정보 #\n",
        "    \n",
        "    request_soup = BeautifulSoup(request_body, 'html.parser')\n",
        "    \n",
        "    ### 지역구 변경 가능\n",
        "    index_gu = 20\n",
        "    ### 0 강남구, 1 강동구, 2 강북구, 3 강서구, 4 관악구,\n",
        "    ### 5 광진구, 6 구로구, 7 금천구, 8 노원구, 9 도봉구,\n",
        "    ### 10 동대문구, 11 동작구, 12 마포구, 13 서대문구, 14 서초구,\n",
        "    ### 15 성동구, 16 성북구, 17 송파구, 18 양천구, 19 영등포구,\n",
        "    ### 20 용산구, 21 은평구, 22 종로구, 23 중구, 24 중랑구\n",
        "    \n",
        "    result_dict = {\n",
        "        'datatime' : request_soup.body.find_all('datatime')[index_gu].text, # 데이터 최근 업데이트 시간\n",
        "        'cityname' : request_soup.body.find_all('cityname')[index_gu].text, # 지역구\n",
        "        'so2value' : request_soup.body.find_all('so2value')[index_gu].text, # 아황산가스 평균농도,\n",
        "        'covalue' : request_soup.body.find_all('covalue')[index_gu].text, # 일산화탄소 평균농도 \n",
        "        'o3value' : request_soup.body.find_all('o3value')[index_gu].text, # 오존 평균농도\n",
        "        'no2value' : request_soup.body.find_all('no2value')[index_gu].text, # 이산화질소 평균농도\n",
        "        'pm10value' : request_soup.body.find_all('pm10value')[index_gu].text, # 미세먼지 PM10 평균농도\n",
        "        'pm25value' : request_soup.body.find_all('pm25value')[index_gu].text # 미세먼지 PM2.5 평균농도\n",
        "    }\n",
        "        \n",
        "      \n",
        "    \n",
        "    return result_dict\n",
        "    print(result_dict)"
      ],
      "execution_count": 0,
      "outputs": []
    },
    {
      "cell_type": "code",
      "metadata": {
        "id": "n-fOIlQmW1LK",
        "colab_type": "code",
        "colab": {
          "base_uri": "https://localhost:8080/",
          "height": 193
        },
        "outputId": "149f0fe3-c93f-49a9-d1d8-cb27f4bd9d7b"
      },
      "source": [
        "getData_airPollution()"
      ],
      "execution_count": 27,
      "outputs": [
        {
          "output_type": "stream",
          "text": [
            "request 완료\n",
            "\n"
          ],
          "name": "stdout"
        },
        {
          "output_type": "execute_result",
          "data": {
            "text/plain": [
              "{'cityname': '용산구',\n",
              " 'covalue': '0.3',\n",
              " 'datatime': '2019-10-25 14:00',\n",
              " 'no2value': '0.029',\n",
              " 'o3value': '0.028',\n",
              " 'pm10value': '17',\n",
              " 'pm25value': '9',\n",
              " 'so2value': '0.003'}"
            ]
          },
          "metadata": {
            "tags": []
          },
          "execution_count": 27
        }
      ]
    },
    {
      "cell_type": "code",
      "metadata": {
        "id": "e7J-MKY7W1PQ",
        "colab_type": "code",
        "colab": {}
      },
      "source": [
        "def process_to_article() : \n",
        "\n",
        "    dict_to_process = getData_airPollution()\n",
        "    # 위에서 이미 정의한, 데이터 수집 함수(getData_airPollution)가 포함된다.\n",
        "    # 즉, 데이터 기사문으로 가공하는 이 함수를 실행하면, 자동으로 데이터 수집을 먼저 진행하게 된다.\n",
        "\n",
        "    \n",
        "    ### 아래 코드는 눈에 보이는 메시지로, 구체적인 형태로 가공하는 작업\n",
        "    text_result =  (\n",
        "        dict_to_process['datatime'] + ' 기준' + '\\n' + \n",
        "        dict_to_process['cityname'] + '의 미세먼지 농도는' + '\\n' + \n",
        "        'PM10 : ' + dict_to_process['pm10value'] + 'ppm' + '\\n' + \n",
        "        'PM2.5 : ' + dict_to_process['pm25value'] + 'ppm'\n",
        "    )\n",
        "    \n",
        "    print(text_result)\n",
        "    return text_result"
      ],
      "execution_count": 0,
      "outputs": []
    },
    {
      "cell_type": "code",
      "metadata": {
        "id": "fRY5dcEwhJoZ",
        "colab_type": "code",
        "colab": {
          "base_uri": "https://localhost:8080/",
          "height": 193
        },
        "outputId": "43d6f4c8-9437-4dc7-a2aa-fc01fe961ba3"
      },
      "source": [
        "print(process_to_article())"
      ],
      "execution_count": 29,
      "outputs": [
        {
          "output_type": "stream",
          "text": [
            "request 완료\n",
            "\n",
            "2019-10-25 14:00 기준\n",
            "용산구의 미세먼지 농도는\n",
            "PM10 : 17ppm\n",
            "PM2.5 : 9ppm\n",
            "2019-10-25 14:00 기준\n",
            "용산구의 미세먼지 농도는\n",
            "PM10 : 17ppm\n",
            "PM2.5 : 9ppm\n"
          ],
          "name": "stdout"
        }
      ]
    },
    {
      "cell_type": "code",
      "metadata": {
        "id": "qCcN_8ZOhOJd",
        "colab_type": "code",
        "colab": {}
      },
      "source": [
        "def message_article():\n",
        "  \n",
        "  article = process_to_article()\n",
        "  # 위에서 이미 정의한, 데이터 수집 함수(process_to_article)가 포함된다.\n",
        "  # 즉, 기사문을 텔레그램으로 전송하는 이 함수를 실행하면, \n",
        "  # 자동으로 데이터 수집을 먼저, 그 다음으로는 수집한 데이터를 기사문으로 가공하는 작업을 진행하게 된다.\n",
        "\n",
        "  send_message(article)"
      ],
      "execution_count": 0,
      "outputs": []
    },
    {
      "cell_type": "code",
      "metadata": {
        "id": "x8qCZFZ4hSVQ",
        "colab_type": "code",
        "colab": {
          "base_uri": "https://localhost:8080/",
          "height": 318
        },
        "outputId": "a3606a47-774f-4b30-91f6-d32fea794647"
      },
      "source": [
        "# 최종 완결 형태인 함수 하나가 만들어졌다.\n",
        "# 아래 함수를 실행하면 우리 텔레그램으로 기사문이 전송된다. \n",
        "\n",
        "message_article()"
      ],
      "execution_count": 31,
      "outputs": [
        {
          "output_type": "stream",
          "text": [
            "request 완료\n",
            "\n",
            "2019-10-25 14:00 기준\n",
            "용산구의 미세먼지 농도는\n",
            "PM10 : 17ppm\n",
            "PM2.5 : 9ppm\n",
            "https://api.telegram.org/bot965234714:AAGBHcRl6CP7gguc7flQAgugfKaC-IvkWpg/getUpdates\n",
            "200\n",
            "SUCCESS \n",
            "\n",
            "나의 chat ID : 850653038\n",
            "https://api.telegram.org/bot965234714:AAGBHcRl6CP7gguc7flQAgugfKaC-IvkWpg/sendmessage?chat_id=850653038&text=2019-10-25 14:00 기준\n",
            "용산구의 미세먼지 농도는\n",
            "PM10 : 17ppm\n",
            "PM2.5 : 9ppm\n",
            "{\"ok\":true,\"result\":{\"message_id\":9,\"from\":{\"id\":965234714,\"is_bot\":true,\"first_name\":\"cabin_alam_bot\",\"username\":\"skb_albam_bot\"},\"chat\":{\"id\":850653038,\"first_name\":\"cabin\",\"last_name\":\"song\",\"type\":\"private\"},\"date\":1571983548,\"text\":\"2019-10-25 14:00 \\uae30\\uc900\\n\\uc6a9\\uc0b0\\uad6c\\uc758 \\ubbf8\\uc138\\uba3c\\uc9c0 \\ub18d\\ub3c4\\ub294\\nPM10 : 17ppm\\nPM2.5 : 9ppm\"}}\n"
          ],
          "name": "stdout"
        }
      ]
    },
    {
      "cell_type": "code",
      "metadata": {
        "id": "dsWWl128hd9U",
        "colab_type": "code",
        "colab": {
          "base_uri": "https://localhost:8080/",
          "height": 882
        },
        "outputId": "8966e36f-bfae-48f1-f5dd-8d4e013a828b"
      },
      "source": [
        "while True : # Always\n",
        "  message_article()\n",
        "  sleep(60)"
      ],
      "execution_count": 0,
      "outputs": [
        {
          "output_type": "stream",
          "text": [
            "request 완료\n",
            "\n",
            "2019-10-25 14:00 기준\n",
            "용산구의 미세먼지 농도는\n",
            "PM10 : 17ppm\n",
            "PM2.5 : 9ppm\n",
            "https://api.telegram.org/bot965234714:AAGBHcRl6CP7gguc7flQAgugfKaC-IvkWpg/getUpdates\n",
            "200\n",
            "SUCCESS \n",
            "\n",
            "나의 chat ID : 850653038\n",
            "https://api.telegram.org/bot965234714:AAGBHcRl6CP7gguc7flQAgugfKaC-IvkWpg/sendmessage?chat_id=850653038&text=2019-10-25 14:00 기준\n",
            "용산구의 미세먼지 농도는\n",
            "PM10 : 17ppm\n",
            "PM2.5 : 9ppm\n",
            "{\"ok\":true,\"result\":{\"message_id\":11,\"from\":{\"id\":965234714,\"is_bot\":true,\"first_name\":\"cabin_alam_bot\",\"username\":\"skb_albam_bot\"},\"chat\":{\"id\":850653038,\"first_name\":\"cabin\",\"last_name\":\"song\",\"type\":\"private\"},\"date\":1571983864,\"text\":\"2019-10-25 14:00 \\uae30\\uc900\\n\\uc6a9\\uc0b0\\uad6c\\uc758 \\ubbf8\\uc138\\uba3c\\uc9c0 \\ub18d\\ub3c4\\ub294\\nPM10 : 17ppm\\nPM2.5 : 9ppm\"}}\n",
            "request 완료\n",
            "\n",
            "2019-10-25 14:00 기준\n",
            "용산구의 미세먼지 농도는\n",
            "PM10 : 17ppm\n",
            "PM2.5 : 9ppm\n",
            "https://api.telegram.org/bot965234714:AAGBHcRl6CP7gguc7flQAgugfKaC-IvkWpg/getUpdates\n",
            "200\n",
            "SUCCESS \n",
            "\n",
            "나의 chat ID : 850653038\n",
            "https://api.telegram.org/bot965234714:AAGBHcRl6CP7gguc7flQAgugfKaC-IvkWpg/sendmessage?chat_id=850653038&text=2019-10-25 14:00 기준\n",
            "용산구의 미세먼지 농도는\n",
            "PM10 : 17ppm\n",
            "PM2.5 : 9ppm\n",
            "{\"ok\":true,\"result\":{\"message_id\":12,\"from\":{\"id\":965234714,\"is_bot\":true,\"first_name\":\"cabin_alam_bot\",\"username\":\"skb_albam_bot\"},\"chat\":{\"id\":850653038,\"first_name\":\"cabin\",\"last_name\":\"song\",\"type\":\"private\"},\"date\":1571983927,\"text\":\"2019-10-25 14:00 \\uae30\\uc900\\n\\uc6a9\\uc0b0\\uad6c\\uc758 \\ubbf8\\uc138\\uba3c\\uc9c0 \\ub18d\\ub3c4\\ub294\\nPM10 : 17ppm\\nPM2.5 : 9ppm\"}}\n",
            "request 완료\n",
            "\n",
            "2019-10-25 14:00 기준\n",
            "용산구의 미세먼지 농도는\n",
            "PM10 : 17ppm\n",
            "PM2.5 : 9ppm\n",
            "https://api.telegram.org/bot965234714:AAGBHcRl6CP7gguc7flQAgugfKaC-IvkWpg/getUpdates\n",
            "200\n",
            "SUCCESS \n",
            "\n",
            "나의 chat ID : 850653038\n",
            "https://api.telegram.org/bot965234714:AAGBHcRl6CP7gguc7flQAgugfKaC-IvkWpg/sendmessage?chat_id=850653038&text=2019-10-25 14:00 기준\n",
            "용산구의 미세먼지 농도는\n",
            "PM10 : 17ppm\n",
            "PM2.5 : 9ppm\n",
            "{\"ok\":true,\"result\":{\"message_id\":13,\"from\":{\"id\":965234714,\"is_bot\":true,\"first_name\":\"cabin_alam_bot\",\"username\":\"skb_albam_bot\"},\"chat\":{\"id\":850653038,\"first_name\":\"cabin\",\"last_name\":\"song\",\"type\":\"private\"},\"date\":1571983989,\"text\":\"2019-10-25 14:00 \\uae30\\uc900\\n\\uc6a9\\uc0b0\\uad6c\\uc758 \\ubbf8\\uc138\\uba3c\\uc9c0 \\ub18d\\ub3c4\\ub294\\nPM10 : 17ppm\\nPM2.5 : 9ppm\"}}\n"
          ],
          "name": "stdout"
        }
      ]
    },
    {
      "cell_type": "code",
      "metadata": {
        "id": "0WJCBP4giZ5H",
        "colab_type": "code",
        "colab": {}
      },
      "source": [
        ""
      ],
      "execution_count": 0,
      "outputs": []
    }
  ]
}